{
 "cells": [
  {
   "cell_type": "markdown",
   "id": "2e752a66-751d-4402-af65-527c4abde232",
   "metadata": {},
   "source": [
    "Практическое задание к уроку № 1 по теме \"Введение, примеры задач, бизнес- и ML-метрики.\"\n",
    "1) Приведите еще примеры метрик для оценки рекомендаций/ранжирования (можно взять из интернета, или ваши знания)\n",
    "\n",
    "2) Доделать все функции, где стоит комментарий \"сделать дома\"\n",
    "\n",
    "Задание 1.\n",
    "1. Среднеквадратичная ошибка\n",
    "Используется в случае, когда мы хотим предсказать, какой рейтинг\n",
    "пользователь поставит конкретному товару.\n",
    "\n",
    "M\n",
    "S\n",
    "E\n",
    "=\n",
    "m\n",
    "e\n",
    "a\n",
    "n\n",
    "(\n",
    "(\n",
    "P\n",
    "−\n",
    "R\n",
    ")\n",
    "2\n",
    ")\n",
    ",\n",
    " где:\n",
    "\n",
    "P - предсказанное значение;\n",
    "R - истинное значение.\n",
    "Задание 2."
   ]
  },
  {
   "cell_type": "code",
   "execution_count": 4,
   "id": "f8eac472-da2f-48a1-ad73-8476b4bf1b6b",
   "metadata": {},
   "outputs": [],
   "source": [
    "import pandas as pd\n",
    "import numpy as np"
   ]
  },
  {
   "cell_type": "code",
   "execution_count": 7,
   "id": "e2ca7be8-865a-4199-b18b-ad97fa5cecfc",
   "metadata": {},
   "outputs": [],
   "source": [
    "recommended_list = [143, 156, 1134, 991, 27, 1543, 3345, 533, 11, 43] #id товаров\n",
    "bought_list = [521, 32, 143, 991]"
   ]
  },
  {
   "cell_type": "code",
   "execution_count": 8,
   "id": "b8f74a74-8375-4140-85ef-6929b1d288c2",
   "metadata": {},
   "outputs": [],
   "source": [
    "def hit_rate(recommended_list, bought_list):\n",
    "    \n",
    "    bought_list = np.array(bought_list)\n",
    "    recommended_list = np.array(recommended_list)\n",
    "    \n",
    "    flags = np.isin(bought_list, recommended_list)\n",
    "    \n",
    "    hit_rate = (flags.sum() > 0) * 1\n",
    "    \n",
    "    return hit_rate\n",
    "\n",
    "\n",
    "def hit_rate_at_k(recommended_list, bought_list, k=5):\n",
    "    \n",
    "    # your_code\n",
    "    \n",
    "    return hit_rate"
   ]
  },
  {
   "cell_type": "code",
   "execution_count": 9,
   "id": "d2d0029c-8791-4fcc-8052-0af7f6c79fde",
   "metadata": {},
   "outputs": [
    {
     "data": {
      "text/plain": [
       "1"
      ]
     },
     "execution_count": 9,
     "metadata": {},
     "output_type": "execute_result"
    }
   ],
   "source": [
    "hit_rate(recommended_list, bought_list)"
   ]
  },
  {
   "cell_type": "code",
   "execution_count": 34,
   "id": "b2052f25-cc6b-4de4-9069-47e49716b9d3",
   "metadata": {},
   "outputs": [],
   "source": [
    "def precision(recommended_list, bought_list):\n",
    "    \n",
    "    bought_list = np.array(bought_list)\n",
    "    recommended_list = np.array(recommended_list)\n",
    "    \n",
    "    flags = np.isin(bought_list, recommended_list)\n",
    "    \n",
    "    precision = flags.sum() / len(recommended_list)\n",
    "    \n",
    "    return precision\n",
    "\n",
    "\n",
    "def precision_at_k(recommended_list, bought_list, k=5):\n",
    "    \n",
    "    bought_list = np.array(bought_list)\n",
    "    recommended_list = np.array(recommended_list)\n",
    "    \n",
    "    bought_list = bought_list  # Тут нет [:k] !!\n",
    "    recommended_list = recommended_list[:k]\n",
    "    \n",
    "    flags = np.isin(bought_list, recommended_list)\n",
    "    \n",
    "    precision = flags.sum() / len(recommended_list)\n",
    "    \n",
    "    \n",
    "    return precision\n",
    "\n",
    "def money_precision_at_k(recommended_list, bought_list, prices_recommended, k=5):\n",
    "    \n",
    "    recommended_list = np.array(recommended_list)[:k]\n",
    "    prices_recommended = np.array(prices_recommended)[:k]\n",
    "    \n",
    "    flags = np.isin(recommended_list, bought_list)\n",
    "    \n",
    "    precision = np.dot(flags, prices_recommended).sum() / prices_recommended.sum()\n",
    "    \n",
    "    return precision"
   ]
  },
  {
   "cell_type": "code",
   "execution_count": 35,
   "id": "3193c578-749d-4e01-84f4-89981b739c55",
   "metadata": {},
   "outputs": [
    {
     "data": {
      "text/plain": [
       "0.027748507200561996"
      ]
     },
     "execution_count": 35,
     "metadata": {},
     "output_type": "execute_result"
    }
   ],
   "source": [
    "prices_recommended = [23, 2233, 534, 56, 1]\n",
    "money_precision_at_k(recommended_list, bought_list, prices_recommended)"
   ]
  },
  {
   "cell_type": "code",
   "execution_count": 36,
   "id": "22f2a448-e2a1-45a6-82f0-20f3fac9c5d1",
   "metadata": {},
   "outputs": [],
   "source": [
    "def recall(recommended_list, bought_list):\n",
    "    \n",
    "    bought_list = np.array(bought_list)\n",
    "    recommended_list = np.array(recommended_list)\n",
    "    \n",
    "    flags = np.isin(bought_list, recommended_list)\n",
    "    \n",
    "    recall = flags.sum() / len(bought_list)\n",
    "    \n",
    "    return recall\n",
    "\n",
    "\n",
    "def recall_at_k(recommended_list, bought_list, k=5):\n",
    "    \n",
    "    # your_code\n",
    "    return recall(recommended_list[:k], bought_list)\n",
    "    \n",
    "    # return recall\n",
    "\n",
    "\n",
    "def money_recall_at_k(recommended_list, bought_list, prices_recommended, prices_bought, k=5):\n",
    "    \n",
    "    recommended_list = np.array(recommended_list)[:k]\n",
    "    prices_recommended = np.array(prices_recommended)[:k]\n",
    "    prices_bought = np.array(prices_bought)\n",
    "    \n",
    "    flags = np.isin(recommended_list, bought_list)\n",
    "    \n",
    "    return np.dot(flags, prices_recommended).sum() / prices_bought.sum()"
   ]
  },
  {
   "cell_type": "code",
   "execution_count": 37,
   "id": "a64b0a29-6bcf-4f67-8899-0ba59ecfe6ef",
   "metadata": {},
   "outputs": [
    {
     "data": {
      "text/plain": [
       "0.5"
      ]
     },
     "execution_count": 37,
     "metadata": {},
     "output_type": "execute_result"
    }
   ],
   "source": [
    "recall(recommended_list, bought_list)"
   ]
  },
  {
   "cell_type": "code",
   "execution_count": 38,
   "id": "c9113141-53dc-4b7d-ae7e-53ceb81f19bb",
   "metadata": {},
   "outputs": [
    {
     "data": {
      "text/plain": [
       "0.5"
      ]
     },
     "execution_count": 38,
     "metadata": {},
     "output_type": "execute_result"
    }
   ],
   "source": [
    "recall_at_k(recommended_list,bought_list,k=5)"
   ]
  },
  {
   "cell_type": "code",
   "execution_count": 48,
   "id": "337a8237-72d7-46d0-9484-e637bb76a9ff",
   "metadata": {},
   "outputs": [
    {
     "data": {
      "text/plain": [
       "0.03412526997840173"
      ]
     },
     "execution_count": 48,
     "metadata": {},
     "output_type": "execute_result"
    }
   ],
   "source": [
    "prices_bought = [25, 2233, 56, 1]\n",
    "money_recall_at_k(recommended_list, bought_list, prices_recommended, prices_bought, k=5)"
   ]
  },
  {
   "cell_type": "markdown",
   "id": "489b0f02-497b-42ac-8782-eab2b878acb2",
   "metadata": {},
   "source": [
    "4. AP@k\n"
   ]
  },
  {
   "cell_type": "code",
   "execution_count": 49,
   "id": "258a3893-a030-4f58-9511-27d2524e5b84",
   "metadata": {},
   "outputs": [],
   "source": [
    "recommended_list = [1, 21, 22, 4, 234, 232432, 234234, 666] #items ids\n",
    "bought_list = [1, 221, 3, 4,]\n"
   ]
  },
  {
   "cell_type": "code",
   "execution_count": 50,
   "id": "272b891f-185f-4e3b-afa7-89de3a262366",
   "metadata": {},
   "outputs": [
    {
     "data": {
      "text/plain": [
       "0.25"
      ]
     },
     "execution_count": 50,
     "metadata": {},
     "output_type": "execute_result"
    }
   ],
   "source": [
    "precision(recommended_list, bought_list)"
   ]
  },
  {
   "cell_type": "code",
   "execution_count": 51,
   "id": "3afee720-0ed2-490e-8b2c-0ed237fe148f",
   "metadata": {},
   "outputs": [
    {
     "data": {
      "text/plain": [
       "0.5"
      ]
     },
     "execution_count": 51,
     "metadata": {},
     "output_type": "execute_result"
    }
   ],
   "source": [
    "recall(recommended_list, bought_list)\n"
   ]
  },
  {
   "cell_type": "code",
   "execution_count": 52,
   "id": "c06b58d4-ce75-4fde-a45e-869ca71bbe4c",
   "metadata": {},
   "outputs": [],
   "source": [
    "def ap_k(recommended_list, bought_list, k=5):\n",
    "    \n",
    "    bought_list = np.array(bought_list)\n",
    "    recommended_list = np.array(recommended_list)[:k]\n",
    "    \n",
    "    relevant_indexes = np.nonzero(np.isin(recommended_list, bought_list))[0]\n",
    "    if len(relevant_indexes) == 0:\n",
    "        return 0\n",
    "    \n",
    "    amount_relevant = len(relevant_indexes)\n",
    "            \n",
    "    sum_ = sum([precision_at_k(recommended_list, bought_list, k=index_relevant+1) for index_relevant in relevant_indexes])\n",
    "    return sum_/amount_relevant"
   ]
  },
  {
   "cell_type": "code",
   "execution_count": 53,
   "id": "915cf709-1a37-4b14-8c19-9c548f285fc8",
   "metadata": {},
   "outputs": [
    {
     "data": {
      "text/plain": [
       "0.75"
      ]
     },
     "execution_count": 53,
     "metadata": {},
     "output_type": "execute_result"
    }
   ],
   "source": [
    "ap_k(recommended_list, bought_list, k=5)\n"
   ]
  },
  {
   "cell_type": "markdown",
   "id": "8c163fd8-ccae-4678-bd55-5b4b4d4d3159",
   "metadata": {},
   "source": [
    "5. MAP@k\n"
   ]
  },
  {
   "cell_type": "code",
   "execution_count": 79,
   "id": "0d1e90e2-b00d-4935-a784-ca44f8a0a3d1",
   "metadata": {},
   "outputs": [],
   "source": [
    "recommended_list_3_users = [[143, 156, 456, 991, 45, 1543, 4345, 433, 31, 33], \n",
    "                    [1134, 533, 14, 4, 15, 1543, 1, 99, 27, 3345],\n",
    "                    [991, 3345, 31, 533, 33, 45, 1543, 156, 1134, 33]\n",
    "                    ]\n",
    "\n",
    "bought_list_3_users = [[521, 33, 143],  # user 1\n",
    "                       [143, 533, 991, 45, 11], # user 2\n",
    "                       [33,2]] # user 3"
   ]
  },
  {
   "cell_type": "code",
   "execution_count": 80,
   "id": "34e1580b-c683-4828-84c8-a6e0d1aa2535",
   "metadata": {},
   "outputs": [],
   "source": [
    "def map_k(recommended_list, bought_list, k=5):\n",
    "    \n",
    "    \n",
    "    return np.array([ap_k(rec_list, buy_list, k=k) for rec_list, buy_list \\\n",
    "                     in zip(recommended_list, bought_list)]).mean()"
   ]
  },
  {
   "cell_type": "code",
   "execution_count": 81,
   "id": "4e375a1a-3c53-4af0-94e4-ad4c80825dd1",
   "metadata": {},
   "outputs": [
    {
     "data": {
      "text/plain": [
       "0.5666666666666667"
      ]
     },
     "execution_count": 81,
     "metadata": {},
     "output_type": "execute_result"
    }
   ],
   "source": [
    "map_k(recommended_list_3_users, bought_list_3_users, k=5)\n"
   ]
  },
  {
   "cell_type": "markdown",
   "id": "f2374a4a-dffa-48a9-89ba-17d7ae966390",
   "metadata": {},
   "source": [
    "6. Normalized discounted cumulative gain ( NDCG@k)\n"
   ]
  },
  {
   "cell_type": "code",
   "execution_count": 82,
   "id": "96d0c74a-9ea4-4e75-8df7-584e5594473f",
   "metadata": {},
   "outputs": [],
   "source": [
    "def ndcg_at_k(recommended_list, bought_list, k=5):\n",
    "    \n",
    "    bought_list = np.array(bought_list)\n",
    "    recommended_list = np.array(recommended_list)[:k]\n",
    "    \n",
    "    flags = np.isin(recommended_list, bought_list)\n",
    "    \n",
    "    i = np.arange(1, k+1)\n",
    "    discount = np.where(i <= 2, i, np.log2(i))\n",
    "    \n",
    "    dcg_at_k = (flags / discount).sum() / k\n",
    "    ideal_dcg = (np.ones(discount.shape) / discount).sum() / k\n",
    "    \n",
    "    return dcg_at_k / ideal_dcg"
   ]
  },
  {
   "cell_type": "code",
   "execution_count": 83,
   "id": "6e8ae11f-3a36-460c-b8f5-6f01e44c1ffa",
   "metadata": {},
   "outputs": [
    {
     "data": {
      "text/plain": [
       "0.489938890671454"
      ]
     },
     "execution_count": 83,
     "metadata": {},
     "output_type": "execute_result"
    }
   ],
   "source": [
    "ndcg_at_k(recommended_list, bought_list, k=5)\n"
   ]
  },
  {
   "cell_type": "markdown",
   "id": "d1887370-24d6-4d79-8b67-dbc2c6076208",
   "metadata": {},
   "source": [
    "7. Mean Reciprocal Rank ( MRR@k )\n"
   ]
  },
  {
   "cell_type": "code",
   "execution_count": 84,
   "id": "6525ce79-29e3-44c0-a58d-f497cd7195f7",
   "metadata": {},
   "outputs": [],
   "source": [
    "def reciprocal_rank(recommended_list, bought_list, k=1):\n",
    "    \n",
    "    # сделать дома \n",
    "    mrrs = np.array([])\n",
    "    \n",
    "    for rec_list, buy_list in zip(recommended_list, bought_list):\n",
    "        rec_list = np.array(rec_list)[:k]\n",
    "        buy_list = np.array(buy_list)\n",
    "        \n",
    "        flags = np.isin(rec_list, buy_list)\n",
    "        mrrs = np.append(mrrs, 1 / (np.where(flags)[0][0] + 1) \\\n",
    "                         if np.where(flags)[0].size > 0 else 0)\n",
    "    \n",
    "    return mrrs.mean()"
   ]
  },
  {
   "cell_type": "code",
   "execution_count": 85,
   "id": "c0c3c356-3e8c-4734-85eb-d83281b0f8da",
   "metadata": {},
   "outputs": [
    {
     "data": {
      "text/plain": [
       "0.5666666666666667"
      ]
     },
     "execution_count": 85,
     "metadata": {},
     "output_type": "execute_result"
    }
   ],
   "source": [
    "reciprocal_rank(recommended_list_3_users, bought_list_3_users, k=5)\n"
   ]
  },
  {
   "cell_type": "code",
   "execution_count": null,
   "id": "de21313e-0c72-4c99-8076-1ffcfc5b62e9",
   "metadata": {},
   "outputs": [],
   "source": []
  }
 ],
 "metadata": {
  "kernelspec": {
   "display_name": "Python 3 (ipykernel)",
   "language": "python",
   "name": "python3"
  },
  "language_info": {
   "codemirror_mode": {
    "name": "ipython",
    "version": 3
   },
   "file_extension": ".py",
   "mimetype": "text/x-python",
   "name": "python",
   "nbconvert_exporter": "python",
   "pygments_lexer": "ipython3",
   "version": "3.8.13"
  }
 },
 "nbformat": 4,
 "nbformat_minor": 5
}
